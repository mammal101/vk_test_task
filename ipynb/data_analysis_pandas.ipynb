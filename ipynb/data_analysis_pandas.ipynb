{
 "cells": [
  {
   "cell_type": "code",
   "execution_count": 111,
   "id": "e63e48f1-14da-4e36-8012-d386063b1844",
   "metadata": {},
   "outputs": [],
   "source": [
    "import pandas as pd\n",
    "import numpy as np\n",
    "from datetime import datetime, timedelta"
   ]
  },
  {
   "cell_type": "markdown",
   "id": "ff2379c3-c49f-4a16-bdcf-b82bbc39ceaa",
   "metadata": {},
   "source": [
    "# Моделирование событий пользователей.\r\n",
    "\r\n",
    "## 1. Регистрация пользователя (register)\r\n",
    "- Событие регистрации создается для каждого пользователя с разной датой в пределах 30 дней от начальной даты.\r\n",
    "- Это событие не привязано к конкретному продукту (`product = None`).\r\n",
    "\r\n",
    "## 2. Визиты на страницы продуктов (pageVisit)\r\n",
    "- После регистрации пользователь посещает страницу одного или нескольких продуктов.\r\n",
    "- Выбор продуктов осуществляется случайным образом из списка `product_ids`.\r\n",
    "- Событие `pageVisit` учитывает разные продукты, что имитирует просмотр различных приложений в сторе.\r\n",
    "\r\n",
    "## 3. Загрузка приложения (download)\r\n",
    "- 80% пользователей совершают загрузку (регулируется вероятностью 0.8).\r\n",
    "- Событие `download` связано с конкретным продуктом, выбранным случайным образом.\r\n",
    "- Пользователь может загрузить продукт в тот же день или в течение двух недель после регистрации, имитируя быструю или отложенную загрузку.\r\n",
    "\r\n",
    "## 4. Покупка приложения (buy)\r\n",
    "- 50% пользователей покупают приложение после его загрузки (регулируется вероятностью 0.5).\r\n",
    "- У покупки есть случайная задержка от 1 до 5 дней после загрузки.\r\n",
    "- Покупка также привязана к конкретному продукту, имитируя возможные покупки разных приложений.\r\n",
    "\r\n",
    "## 5. Обновление приложения (update)\r\n",
    "- 30% пользователей совершают обновление приложения (регулируется вероятностью 0.3).\r\n",
    "- Обновление происходит в течение 1–7 дней после покупки.\r\n",
    "- Каждое обновление связано с продуктом, что имитирует выбор для обновления конкретного приложения.\r\n",
    "\r\n",
    "## 6. Первичный запуск приложения (launch)\r\n",
    "- Для каждого пользователя создается событие запуска `launch`, которое происходит в пределах 3 дней после регистрации.\r\n",
    "- `launch` не привязан к продукту (`product = None`), так как он предствляет запуск стор приложения.\r\n",
    "ия.\r\n",
    "ск стор приложения.\r\n"
   ]
  },
  {
   "cell_type": "code",
   "execution_count": 127,
   "id": "06e114f3-ba4c-4661-b428-db4a775f666a",
   "metadata": {},
   "outputs": [
    {
     "name": "stdout",
     "output_type": "stream",
     "text": [
      "    userId  eventName       time product\n",
      "31       6   register 2023-03-02    None\n",
      "37       6     launch 2023-03-03    None\n",
      "7        2   register 2023-03-04    None\n",
      "12       2     launch 2023-03-04    None\n",
      "32       6  pageVisit 2023-03-06  prod_1\n",
      "34       6  pageVisit 2023-03-06  prod_3\n",
      "33       6  pageVisit 2023-03-06  prod_2\n",
      "30       5     launch 2023-03-07    None\n",
      "26       5   register 2023-03-07    None\n",
      "0        1   register 2023-03-07    None\n",
      "8        2  pageVisit 2023-03-07  prod_1\n",
      "6        1     launch 2023-03-07    None\n",
      "65      10     launch 2023-03-08    None\n",
      "60      10   register 2023-03-08    None\n",
      "29       5  pageVisit 2023-03-08  prod_3\n",
      "63      10  pageVisit 2023-03-09  prod_3\n",
      "27       5  pageVisit 2023-03-09  prod_1\n",
      "10       2  pageVisit 2023-03-09  prod_3\n",
      "9        2  pageVisit 2023-03-10  prod_2\n",
      "3        1  pageVisit 2023-03-10  prod_3\n"
     ]
    }
   ],
   "source": [
    "# Задаем параметры\n",
    "np.random.seed(42)\n",
    "user_count = 10  # количество уникальных пользователей\n",
    "product_ids = ['prod_1', 'prod_2', 'prod_3']  # несколько идентификаторов продуктов\n",
    "start_date = datetime(2023, 3, 1)\n",
    "\n",
    "# Функция для генерации случайного события\n",
    "def generate_event(user_id, product, event_name, event_time):\n",
    "    return {\n",
    "        'userId': user_id,\n",
    "        'eventName': event_name,\n",
    "        'time': event_time,\n",
    "        'product': product\n",
    "    }\n",
    "\n",
    "# Список для хранения событий\n",
    "events = []\n",
    "\n",
    "# Генерация событий для каждого пользователя\n",
    "for user_id in range(1, user_count + 1):\n",
    "    # Дата регистрации пользователя\n",
    "    register_time = start_date + timedelta(days=np.random.randint(0, 30))\n",
    "    events.append(generate_event(user_id, None, 'register', register_time))\n",
    "    \n",
    "    # Добавляем визиты на страницы продуктов\n",
    "    for product in product_ids:\n",
    "        page_visit_time = register_time + timedelta(days=np.random.randint(1, 7))\n",
    "        events.append(generate_event(user_id, product, 'pageVisit', page_visit_time))\n",
    "    \n",
    "    # Генерация событий для загрузки, покупки, обновления\n",
    "    if np.random.rand() < 0.8:  # 80% шанс, что пользователь скачает приложение\n",
    "        download_time = register_time + timedelta(days=np.random.randint(1, 14))\n",
    "        events.append(generate_event(user_id, np.random.choice(product_ids), 'download', download_time))\n",
    "\n",
    "    if np.random.rand() < 0.5:  # 50% шанс, что пользователь купит приложение\n",
    "        buy_time = download_time + timedelta(days=np.random.randint(1, 5))\n",
    "        events.append(generate_event(user_id, np.random.choice(product_ids), 'buy', buy_time))\n",
    "        \n",
    "    if np.random.rand() < 0.3:  # 30% шанс, что пользователь обновит приложение\n",
    "        update_time = buy_time + timedelta(days=np.random.randint(1, 7))\n",
    "        events.append(generate_event(user_id, np.random.choice(product_ids), 'update', update_time))\n",
    "    \n",
    "    # Первичный запуск приложения\n",
    "    launch_time = register_time + timedelta(days=np.random.randint(0, 3))\n",
    "    events.append(generate_event(user_id, None, 'launch', launch_time))\n",
    "\n",
    "# Создаем DataFrame\n",
    "df = pd.DataFrame(events)\n",
    "\n",
    "# Сортируем по времени для удобства\n",
    "df.sort_values(by='time', inplace=True)\n",
    "\n",
    "# Просмотр сгенерированного датасета\n",
    "print(df.head(20))"
   ]
  },
  {
   "cell_type": "code",
   "execution_count": 130,
   "id": "d9d397d9-88bd-4f87-941f-13674eb40372",
   "metadata": {
    "scrolled": true
   },
   "outputs": [],
   "source": [
    "df.to_csv('../data/data.csv', index=False)"
   ]
  },
  {
   "cell_type": "markdown",
   "id": "7c981e30-afe7-4e0b-88ff-9910ffec1190",
   "metadata": {},
   "source": [
    "# Приступаем к когортному анализу"
   ]
  },
  {
   "cell_type": "code",
   "execution_count": 450,
   "id": "ec69af19-6ffc-474e-9c63-e02e83510717",
   "metadata": {},
   "outputs": [],
   "source": [
    "user_actions = pd.read_csv('../data/data.csv', parse_dates=['time'])"
   ]
  },
  {
   "cell_type": "code",
   "execution_count": 451,
   "id": "da19865b-9860-44ff-9e34-37823860c1e9",
   "metadata": {},
   "outputs": [],
   "source": [
    "register_df = user_actions[user_actions['eventName'] == 'register'][['userId', 'time']].sort_values('time').rename(columns={'time': 'week'})\n",
    "download_df = user_actions[user_actions['eventName'] == 'download'][['userId', 'time']].sort_values('time').drop_duplicates(subset='userId', keep='first').rename(columns={'time': 'week'})"
   ]
  },
  {
   "cell_type": "code",
   "execution_count": 452,
   "id": "46a87265-f3cb-4829-92fc-6f325ecad012",
   "metadata": {},
   "outputs": [],
   "source": [
    "register_df.week = register_df.week.apply(lambda x: x - pd.to_timedelta(x.weekday(), unit='d')).dt.date\n",
    "download_df.week = download_df.week.apply(lambda x: x - pd.to_timedelta(x.weekday(), unit='d')).dt.date"
   ]
  },
  {
   "cell_type": "code",
   "execution_count": 453,
   "id": "a09a5d55-16e1-4616-bed1-1999ac4c84e0",
   "metadata": {},
   "outputs": [],
   "source": [
    "amount_of_reg_df = pd.DataFrame(register_df.groupby('week', as_index=False).userId.count().rename(columns={'userId': 'registrations'}))"
   ]
  },
  {
   "cell_type": "code",
   "execution_count": 454,
   "id": "2932b953-f0ad-4b56-a7ae-3b70a5db89f3",
   "metadata": {},
   "outputs": [],
   "source": [
    "down_reg_df = register_df.merge(download_df, on=['userId', 'week']) \\\n",
    "    .groupby('week', as_index=False).userId.count() \\\n",
    "    .rename(columns={'userId': 'first_downloads'}) \\\n",
    "    .merge(amount_of_reg_df)"
   ]
  },
  {
   "cell_type": "code",
   "execution_count": 455,
   "id": "13182271-8af3-4484-915b-f0d5ef90f6d2",
   "metadata": {},
   "outputs": [],
   "source": [
    "down_reg_df['CR'] = (down_reg_df.first_downloads / down_reg_df.registrations).mask(down_reg_df['registrations'] == 0, 0)"
   ]
  },
  {
   "cell_type": "code",
   "execution_count": 456,
   "id": "b5fa9d59-4643-4595-be5f-1e65894087c8",
   "metadata": {},
   "outputs": [],
   "source": [
    "conversion_rate_df = down_reg_df[['week', 'registrations', 'CR']].rename(columns={'registrations': 'users'})"
   ]
  },
  {
   "cell_type": "code",
   "execution_count": 457,
   "id": "488b1d85-cb1b-41d7-b892-1acb012d53f1",
   "metadata": {},
   "outputs": [],
   "source": [
    "cr_df = amount_of_reg_df.rename(columns={'registrations': 'users'}).merge(conversion_rate_df, how='left').fillna(0)"
   ]
  },
  {
   "cell_type": "code",
   "execution_count": 458,
   "id": "02c0ae82-495e-4d00-bb3c-0086aa4eec4b",
   "metadata": {},
   "outputs": [
    {
     "data": {
      "text/html": [
       "<div>\n",
       "<style scoped>\n",
       "    .dataframe tbody tr th:only-of-type {\n",
       "        vertical-align: middle;\n",
       "    }\n",
       "\n",
       "    .dataframe tbody tr th {\n",
       "        vertical-align: top;\n",
       "    }\n",
       "\n",
       "    .dataframe thead th {\n",
       "        text-align: right;\n",
       "    }\n",
       "</style>\n",
       "<table border=\"1\" class=\"dataframe\">\n",
       "  <thead>\n",
       "    <tr style=\"text-align: right;\">\n",
       "      <th></th>\n",
       "      <th>week</th>\n",
       "      <th>users</th>\n",
       "      <th>CR</th>\n",
       "    </tr>\n",
       "  </thead>\n",
       "  <tbody>\n",
       "    <tr>\n",
       "      <th>0</th>\n",
       "      <td>2023-02-27</td>\n",
       "      <td>2</td>\n",
       "      <td>0.00</td>\n",
       "    </tr>\n",
       "    <tr>\n",
       "      <th>1</th>\n",
       "      <td>2023-03-06</td>\n",
       "      <td>4</td>\n",
       "      <td>0.25</td>\n",
       "    </tr>\n",
       "    <tr>\n",
       "      <th>2</th>\n",
       "      <td>2023-03-27</td>\n",
       "      <td>4</td>\n",
       "      <td>0.00</td>\n",
       "    </tr>\n",
       "  </tbody>\n",
       "</table>\n",
       "</div>"
      ],
      "text/plain": [
       "         week  users    CR\n",
       "0  2023-02-27      2  0.00\n",
       "1  2023-03-06      4  0.25\n",
       "2  2023-03-27      4  0.00"
      ]
     },
     "execution_count": 458,
     "metadata": {},
     "output_type": "execute_result"
    }
   ],
   "source": [
    "cr_df"
   ]
  },
  {
   "cell_type": "code",
   "execution_count": null,
   "id": "b4394a91-06dc-4b6a-ad3a-1fa63ef449ca",
   "metadata": {},
   "outputs": [],
   "source": []
  },
  {
   "cell_type": "code",
   "execution_count": null,
   "id": "3f552aed-80f2-4bf4-890c-7dd65954e4e8",
   "metadata": {},
   "outputs": [],
   "source": []
  }
 ],
 "metadata": {
  "kernelspec": {
   "display_name": "Python 3 (ipykernel)",
   "language": "python",
   "name": "python3"
  },
  "language_info": {
   "codemirror_mode": {
    "name": "ipython",
    "version": 3
   },
   "file_extension": ".py",
   "mimetype": "text/x-python",
   "name": "python",
   "nbconvert_exporter": "python",
   "pygments_lexer": "ipython3",
   "version": "3.11.6"
  }
 },
 "nbformat": 4,
 "nbformat_minor": 5
}
